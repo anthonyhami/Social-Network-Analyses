{
 "cells": [
  {
   "cell_type": "code",
   "execution_count": 16,
   "id": "3c84506d",
   "metadata": {},
   "outputs": [],
   "source": [
    "import pandas as pd\n",
    "import numpy as np\n",
    "import seaborn as sns\n",
    "%matplotlib inline\n",
    "import matplotlib.pyplot as plt"
   ]
  },
  {
   "cell_type": "code",
   "execution_count": 17,
   "id": "e18d78a8",
   "metadata": {},
   "outputs": [],
   "source": [
    "df=pd.read_csv(\"DG-AssocMiner_miner-disease-gene.csv\",sep=\";\")"
   ]
  },
  {
   "cell_type": "code",
   "execution_count": 18,
   "id": "22bc1ff2",
   "metadata": {},
   "outputs": [
    {
     "data": {
      "text/html": [
       "<div>\n",
       "<style scoped>\n",
       "    .dataframe tbody tr th:only-of-type {\n",
       "        vertical-align: middle;\n",
       "    }\n",
       "\n",
       "    .dataframe tbody tr th {\n",
       "        vertical-align: top;\n",
       "    }\n",
       "\n",
       "    .dataframe thead th {\n",
       "        text-align: right;\n",
       "    }\n",
       "</style>\n",
       "<table border=\"1\" class=\"dataframe\">\n",
       "  <thead>\n",
       "    <tr style=\"text-align: right;\">\n",
       "      <th></th>\n",
       "      <th>Disease_ID</th>\n",
       "      <th>Disease_Name</th>\n",
       "      <th>Gene_ID</th>\n",
       "    </tr>\n",
       "  </thead>\n",
       "  <tbody>\n",
       "    <tr>\n",
       "      <th>0</th>\n",
       "      <td>C0036095</td>\n",
       "      <td>Salivary Gland Neoplasms</td>\n",
       "      <td>1462</td>\n",
       "    </tr>\n",
       "    <tr>\n",
       "      <th>1</th>\n",
       "      <td>C0036095</td>\n",
       "      <td>Salivary Gland Neoplasms</td>\n",
       "      <td>1612</td>\n",
       "    </tr>\n",
       "    <tr>\n",
       "      <th>2</th>\n",
       "      <td>C0036095</td>\n",
       "      <td>Salivary Gland Neoplasms</td>\n",
       "      <td>182</td>\n",
       "    </tr>\n",
       "    <tr>\n",
       "      <th>3</th>\n",
       "      <td>C0036095</td>\n",
       "      <td>Salivary Gland Neoplasms</td>\n",
       "      <td>2011</td>\n",
       "    </tr>\n",
       "    <tr>\n",
       "      <th>4</th>\n",
       "      <td>C0036095</td>\n",
       "      <td>Salivary Gland Neoplasms</td>\n",
       "      <td>2019</td>\n",
       "    </tr>\n",
       "  </tbody>\n",
       "</table>\n",
       "</div>"
      ],
      "text/plain": [
       "  Disease_ID              Disease_Name  Gene_ID\n",
       "0   C0036095  Salivary Gland Neoplasms     1462\n",
       "1   C0036095  Salivary Gland Neoplasms     1612\n",
       "2   C0036095  Salivary Gland Neoplasms      182\n",
       "3   C0036095  Salivary Gland Neoplasms     2011\n",
       "4   C0036095  Salivary Gland Neoplasms     2019"
      ]
     },
     "execution_count": 18,
     "metadata": {},
     "output_type": "execute_result"
    }
   ],
   "source": [
    "df.head()"
   ]
  },
  {
   "cell_type": "markdown",
   "id": "7693d33f",
   "metadata": {},
   "source": [
    "# General Information"
   ]
  },
  {
   "cell_type": "code",
   "execution_count": 19,
   "id": "7647a36d",
   "metadata": {},
   "outputs": [
    {
     "name": "stdout",
     "output_type": "stream",
     "text": [
      "<class 'pandas.core.frame.DataFrame'>\n",
      "RangeIndex: 21357 entries, 0 to 21356\n",
      "Data columns (total 3 columns):\n",
      " #   Column        Non-Null Count  Dtype \n",
      "---  ------        --------------  ----- \n",
      " 0   Disease_ID    21357 non-null  object\n",
      " 1   Disease_Name  21357 non-null  object\n",
      " 2   Gene_ID       21357 non-null  int64 \n",
      "dtypes: int64(1), object(2)\n",
      "memory usage: 500.7+ KB\n"
     ]
    }
   ],
   "source": [
    "df.info() "
   ]
  },
  {
   "cell_type": "code",
   "execution_count": 20,
   "id": "b4ee671c",
   "metadata": {},
   "outputs": [
    {
     "data": {
      "text/plain": [
       "(21357, 3)"
      ]
     },
     "execution_count": 20,
     "metadata": {},
     "output_type": "execute_result"
    }
   ],
   "source": [
    "df.shape #21357"
   ]
  },
  {
   "cell_type": "code",
   "execution_count": 21,
   "id": "657259d3",
   "metadata": {},
   "outputs": [
    {
     "data": {
      "text/plain": [
       "519"
      ]
     },
     "execution_count": 21,
     "metadata": {},
     "output_type": "execute_result"
    }
   ],
   "source": [
    "df[\"Disease_Name\"].nunique()"
   ]
  },
  {
   "cell_type": "code",
   "execution_count": 22,
   "id": "0976d9a6",
   "metadata": {},
   "outputs": [
    {
     "data": {
      "text/plain": [
       "7294"
      ]
     },
     "execution_count": 22,
     "metadata": {},
     "output_type": "execute_result"
    }
   ],
   "source": [
    "df[\"Gene_ID\"].nunique()"
   ]
  },
  {
   "cell_type": "code",
   "execution_count": 23,
   "id": "54da0d9e",
   "metadata": {},
   "outputs": [
    {
     "data": {
      "text/html": [
       "<div>\n",
       "<style scoped>\n",
       "    .dataframe tbody tr th:only-of-type {\n",
       "        vertical-align: middle;\n",
       "    }\n",
       "\n",
       "    .dataframe tbody tr th {\n",
       "        vertical-align: top;\n",
       "    }\n",
       "\n",
       "    .dataframe thead th {\n",
       "        text-align: right;\n",
       "    }\n",
       "</style>\n",
       "<table border=\"1\" class=\"dataframe\">\n",
       "  <thead>\n",
       "    <tr style=\"text-align: right;\">\n",
       "      <th></th>\n",
       "      <th>Disease_ID</th>\n",
       "      <th>Disease_Name</th>\n",
       "      <th>Gene_ID</th>\n",
       "    </tr>\n",
       "  </thead>\n",
       "  <tbody>\n",
       "  </tbody>\n",
       "</table>\n",
       "</div>"
      ],
      "text/plain": [
       "Empty DataFrame\n",
       "Columns: [Disease_ID, Disease_Name, Gene_ID]\n",
       "Index: []"
      ]
     },
     "execution_count": 23,
     "metadata": {},
     "output_type": "execute_result"
    }
   ],
   "source": [
    "is_NaN = df.isnull()\n",
    "row_has_NaN = is_NaN.any(axis=1)\n",
    "rows_with_NaN = df[row_has_NaN]\n",
    "rows_with_NaN"
   ]
  },
  {
   "cell_type": "markdown",
   "id": "c5b86c92",
   "metadata": {},
   "source": [
    "# Explorative analyses"
   ]
  },
  {
   "cell_type": "markdown",
   "id": "572d61e2",
   "metadata": {},
   "source": [
    "# Most common Diseases"
   ]
  },
  {
   "cell_type": "code",
   "execution_count": 24,
   "id": "bb5639ff",
   "metadata": {
    "scrolled": true
   },
   "outputs": [
    {
     "data": {
      "text/plain": [
       "Prostatic Neoplasms       485\n",
       "IGA Glomerulonephritis    450\n",
       "Mammary Neoplasms         433\n",
       "Obesity                   298\n",
       "Peripheral Neuropathy     293\n",
       "Stomach Neoplasms         284\n",
       "Schizophrenia             280\n",
       "Autistic Disorder         254\n",
       "Colorectal Neoplasms      232\n",
       "Liver carcinoma           222\n",
       "Name: Disease_Name, dtype: int64"
      ]
     },
     "execution_count": 24,
     "metadata": {},
     "output_type": "execute_result"
    }
   ],
   "source": [
    "top_df_diseases=df['Disease_Name'].value_counts()[:10]\n",
    "top_df_diseases "
   ]
  },
  {
   "cell_type": "code",
   "execution_count": 25,
   "id": "fa8b247d",
   "metadata": {},
   "outputs": [
    {
     "data": {
      "text/plain": [
       "<AxesSubplot:xlabel='count', ylabel='Disease_Name'>"
      ]
     },
     "execution_count": 25,
     "metadata": {},
     "output_type": "execute_result"
    },
    {
     "data": {
      "image/png": "[encoded data removed]",
      "text/plain": [
       "<Figure size 432x288 with 1 Axes>"
      ]
     },
     "metadata": {
      "needs_background": "light"
     },
     "output_type": "display_data"
    }
   ],
   "source": [
    "sns.countplot(y=\"Disease_Name\", data=df, palette=\"coolwarm\",\n",
    "              order=df.Disease_Name.value_counts().iloc[:11].index)"
   ]
  },
  {
   "cell_type": "code",
   "execution_count": 13,
   "id": "9e3bd2dc",
   "metadata": {},
   "outputs": [
    {
     "data": {
      "image/png": "[encoded data removed]",
      "text/plain": [
       "<Figure size 864x576 with 1 Axes>"
      ]
     },
     "metadata": {},
     "output_type": "display_data"
    }
   ],
   "source": [
    "sns.set(rc={'figure.figsize':(12,8)})\n",
    "swarm_plot = sns.countplot(y=\"Disease_Name\", data=df, palette=\"coolwarm\",\n",
    "              order=df.Disease_Name.value_counts().iloc[:11].index)\n",
    "fig = swarm_plot.get_figure()\n",
    "fig.savefig(\"top_disease.png\") "
   ]
  },
  {
   "cell_type": "markdown",
   "id": "19a1ff86",
   "metadata": {},
   "source": [
    "#  Most common Diseases_ID"
   ]
  },
  {
   "cell_type": "code",
   "execution_count": 167,
   "id": "f5da516b",
   "metadata": {},
   "outputs": [
    {
     "data": {
      "text/plain": [
       "C0033578    485\n",
       "C0017661    450\n",
       "C1458155    433\n",
       "C0028754    298\n",
       "C0031117    293\n",
       "C0038356    284\n",
       "C0036341    280\n",
       "C0004352    254\n",
       "C0009404    232\n",
       "C2239176    222\n",
       "Name: Disease_ID, dtype: int64"
      ]
     },
     "execution_count": 167,
     "metadata": {},
     "output_type": "execute_result"
    }
   ],
   "source": [
    "top_df_diseases_id=df['Disease_ID'].value_counts()[:10]\n",
    "top_df_diseases_id "
   ]
  },
  {
   "cell_type": "code",
   "execution_count": 168,
   "id": "f8ba0d59",
   "metadata": {},
   "outputs": [
    {
     "data": {
      "text/plain": [
       "<AxesSubplot:xlabel='count', ylabel='Disease_ID'>"
      ]
     },
     "execution_count": 168,
     "metadata": {},
     "output_type": "execute_result"
    },
    {
     "data": {
      "image/png": "[encoded data removed]",
      "text/plain": [
       "<Figure size 432x288 with 1 Axes>"
      ]
     },
     "metadata": {
      "needs_background": "light"
     },
     "output_type": "display_data"
    }
   ],
   "source": [
    "\n",
    "sns.countplot(y=\"Disease_ID\", data=df, palette=\"coolwarm\",\n",
    "              order=df.Disease_ID.value_counts().iloc[:11].index)"
   ]
  },
  {
   "cell_type": "markdown",
   "id": "9cdaf159",
   "metadata": {},
   "source": [
    "# Least common Diseases"
   ]
  },
  {
   "cell_type": "code",
   "execution_count": 169,
   "id": "8a269493",
   "metadata": {},
   "outputs": [
    {
     "data": {
      "text/plain": [
       "Atrophic                                               10\n",
       "Nephritis, Interstitial                                10\n",
       "Osteitis Deformans                                     10\n",
       "Tongue Neoplasms                                       10\n",
       "beta Thalassemia                                       10\n",
       "Renal dysplasia and retinal aplasia (disorder)         10\n",
       "Marfan Syndrome                                        10\n",
       "Myoclonic Epilepsy, Juvenile                           10\n",
       "Methylmalonic acidemia                                 10\n",
       "Birth Weight                                           10\n",
       "Jeune thoracic dystrophy                               10\n",
       "Arrhythmogenic Right Ventricular Dysplasia             10\n",
       "Erectile dysfunction                                   10\n",
       "Hepatomegaly                                           10\n",
       "Diarrhea                                               10\n",
       "Absence Epilepsy                                       10\n",
       "Tonic-Clonic Epilepsy                                  10\n",
       "Marijuana Abuse                                        10\n",
       "Renal Insufficiency                                    10\n",
       "Neuroendocrine Tumors                                  10\n",
       "Cerebral Infarction                                    10\n",
       "Arthritis                                              10\n",
       "Diabetic Cardiomyopathies                              10\n",
       "Tooth Abnormalities                                    10\n",
       "Transient Ischemic Attack                              10\n",
       "Gout                                                   10\n",
       "Tachycardia, Ventricular                               10\n",
       "Hypoglycemia                                           10\n",
       "Anemia, Sickle Cell                                    10\n",
       "Ceroid lipofuscinosis, neuronal 1, infantile           10\n",
       "Cardiomyopathy, Familial Hypertrophic, 1 (disorder)    10\n",
       "Adenomatous Polyposis Coli                             10\n",
       "Mitochondrial Myopathies                               10\n",
       "Electrocardiogram: P-R interval                        10\n",
       "Holoprosencephaly                                      10\n",
       "Fetal Growth Retardation                               10\n",
       "Hay fever                                              10\n",
       "Cachexia                                               10\n",
       "Osteogenesis imperfecta type IV (disorder)             10\n",
       "Skin Abnormalities                                     10\n",
       "Williams Syndrome                                      10\n",
       "Name: Disease_Name, dtype: int64"
      ]
     },
     "execution_count": 169,
     "metadata": {},
     "output_type": "execute_result"
    }
   ],
   "source": [
    "low_df_diseases=df['Disease_Name'].value_counts().tail(41)\n",
    "low_df_diseases"
   ]
  },
  {
   "cell_type": "code",
   "execution_count": 170,
   "id": "9be29177",
   "metadata": {},
   "outputs": [
    {
     "data": {
      "text/plain": [
       "<AxesSubplot:xlabel='count', ylabel='Disease_Name'>"
      ]
     },
     "execution_count": 170,
     "metadata": {},
     "output_type": "execute_result"
    },
    {
     "data": {
      "image/png": "[encoded data removed]",
      "text/plain": [
       "<Figure size 864x576 with 1 Axes>"
      ]
     },
     "metadata": {},
     "output_type": "display_data"
    }
   ],
   "source": [
    "sns.set(rc={'figure.figsize':(12,8)})\n",
    "sns.countplot(y=\"Disease_Name\", data=df, palette=\"coolwarm\",\n",
    "              order=df.Disease_Name.value_counts().iloc[-41:].index)\n"
   ]
  },
  {
   "cell_type": "markdown",
   "id": "2818fc88",
   "metadata": {},
   "source": [
    "# Least commen disease ID"
   ]
  },
  {
   "cell_type": "code",
   "execution_count": 171,
   "id": "cae15c50",
   "metadata": {},
   "outputs": [
    {
     "data": {
      "text/plain": [
       "C0333641    10\n",
       "C0027707    10\n",
       "C0029401    10\n",
       "C0040411    10\n",
       "C0005283    10\n",
       "C0403553    10\n",
       "C0024796    10\n",
       "C0270853    10\n",
       "C0268583    10\n",
       "C0005612    10\n",
       "C0265275    10\n",
       "C0349788    10\n",
       "C0242350    10\n",
       "C0019209    10\n",
       "C0011991    10\n",
       "C0014553    10\n",
       "C0014549    10\n",
       "C0024809    10\n",
       "C1565489    10\n",
       "C0206754    10\n",
       "C0007785    10\n",
       "C0003864    10\n",
       "C0853897    10\n",
       "C0040427    10\n",
       "C0007787    10\n",
       "C0018099    10\n",
       "C0042514    10\n",
       "C0020615    10\n",
       "C0002895    10\n",
       "C2931673    10\n",
       "C3495498    10\n",
       "C0032580    10\n",
       "C0162670    10\n",
       "C0429087    10\n",
       "C0079541    10\n",
       "C0015934    10\n",
       "C0018621    10\n",
       "C0006625    10\n",
       "C0268363    10\n",
       "C0037268    10\n",
       "C0175702    10\n",
       "Name: Disease_ID, dtype: int64"
      ]
     },
     "execution_count": 171,
     "metadata": {},
     "output_type": "execute_result"
    }
   ],
   "source": [
    "low_df_diseases_id=df['Disease_ID'].value_counts().tail(41)\n",
    "low_df_diseases_id"
   ]
  },
  {
   "cell_type": "code",
   "execution_count": 172,
   "id": "e29c5d17",
   "metadata": {},
   "outputs": [
    {
     "data": {
      "text/plain": [
       "<AxesSubplot:xlabel='count', ylabel='Disease_ID'>"
      ]
     },
     "execution_count": 172,
     "metadata": {},
     "output_type": "execute_result"
    },
    {
     "data": {
      "image/png": "[encoded data removed]",
      "text/plain": [
       "<Figure size 864x576 with 1 Axes>"
      ]
     },
     "metadata": {},
     "output_type": "display_data"
    }
   ],
   "source": [
    "sns.set(rc={'figure.figsize':(12,8)})\n",
    "sns.countplot(y=\"Disease_ID\", data=df, palette=\"coolwarm\",\n",
    "              order=df.Disease_ID.value_counts().iloc[-41:].index)"
   ]
  },
  {
   "cell_type": "markdown",
   "id": "345e6b4d",
   "metadata": {},
   "source": [
    "# Most common Genes"
   ]
  },
  {
   "cell_type": "code",
   "execution_count": 173,
   "id": "b0f5ce83",
   "metadata": {},
   "outputs": [
    {
     "data": {
      "text/plain": [
       "7124    115\n",
       "6648     96\n",
       "5743     83\n",
       "3569     79\n",
       "7157     68\n",
       "3553     61\n",
       "7040     58\n",
       "4524     56\n",
       "7422     50\n",
       "5443     49\n",
       "Name: Gene_ID, dtype: int64"
      ]
     },
     "execution_count": 173,
     "metadata": {},
     "output_type": "execute_result"
    }
   ],
   "source": [
    "top_df_Gene=df['Gene_ID'].value_counts()[:10]\n",
    "top_df_Gene "
   ]
  },
  {
   "cell_type": "code",
   "execution_count": 174,
   "id": "0c6c7aa5",
   "metadata": {},
   "outputs": [
    {
     "data": {
      "text/plain": [
       "<AxesSubplot:xlabel='count', ylabel='Gene_ID'>"
      ]
     },
     "execution_count": 174,
     "metadata": {},
     "output_type": "execute_result"
    },
    {
     "data": {
      "image/png": "[encoded data removed]",
      "text/plain": [
       "<Figure size 864x576 with 1 Axes>"
      ]
     },
     "metadata": {},
     "output_type": "display_data"
    }
   ],
   "source": [
    "sns.countplot(y=\"Gene_ID\", data=df, palette=\"coolwarm\",\n",
    "              order=df.Gene_ID.value_counts().iloc[:11].index)"
   ]
  },
  {
   "cell_type": "code",
   "execution_count": 175,
   "id": "5d48738f",
   "metadata": {},
   "outputs": [
    {
     "data": {
      "text/plain": [
       "7124      115\n",
       "6648       96\n",
       "5743       83\n",
       "3569       79\n",
       "7157       68\n",
       "         ... \n",
       "169270      1\n",
       "201299      1\n",
       "23005       1\n",
       "23170       1\n",
       "947         1\n",
       "Name: Gene_ID, Length: 7294, dtype: int64"
      ]
     },
     "execution_count": 175,
     "metadata": {},
     "output_type": "execute_result"
    }
   ],
   "source": [
    "low_df_Gene=df[\"Gene_ID\"].value_counts()\n",
    "low_df_Gene"
   ]
  },
  {
   "cell_type": "code",
   "execution_count": 176,
   "id": "d8d4bd44",
   "metadata": {},
   "outputs": [
    {
     "data": {
      "text/plain": [
       "100188836    1\n",
       "388165       1\n",
       "338334       1\n",
       "4522         1\n",
       "84987        1\n",
       "            ..\n",
       "169270       1\n",
       "201299       1\n",
       "23005        1\n",
       "23170        1\n",
       "947          1\n",
       "Name: Gene_ID, Length: 3612, dtype: int64"
      ]
     },
     "execution_count": 176,
     "metadata": {},
     "output_type": "execute_result"
    }
   ],
   "source": [
    "low_df_Gene[low_df_Gene==1]"
   ]
  },
  {
   "cell_type": "code",
   "execution_count": 177,
   "id": "3d311dc7",
   "metadata": {},
   "outputs": [
    {
     "data": {
      "text/plain": [
       "<AxesSubplot:xlabel='count', ylabel='Gene_ID'>"
      ]
     },
     "execution_count": 177,
     "metadata": {},
     "output_type": "execute_result"
    },
    {
     "data": {
      "image/png": "[encoded data removed]",
      "text/plain": [
       "<Figure size 864x576 with 1 Axes>"
      ]
     },
     "metadata": {},
     "output_type": "display_data"
    }
   ],
   "source": [
    "sns.countplot(y=\"Gene_ID\", data=df, palette=\"coolwarm\",\n",
    "              order=df.Gene_ID.value_counts().iloc[-20:].index)"
   ]
  },
  {
   "cell_type": "code",
   "execution_count": 178,
   "id": "ab240b49",
   "metadata": {},
   "outputs": [],
   "source": [
    "df.drop('Disease_Name', inplace=True, axis=1)"
   ]
  },
  {
   "cell_type": "markdown",
   "id": "88cf5ada",
   "metadata": {},
   "source": [
    "# Group and count by diseasename"
   ]
  },
  {
   "cell_type": "code",
   "execution_count": 179,
   "id": "1cf8842b",
   "metadata": {},
   "outputs": [],
   "source": [
    "df_disease=df[[\"Disease_ID\"]] "
   ]
  },
  {
   "cell_type": "code",
   "execution_count": 180,
   "id": "18178c01",
   "metadata": {},
   "outputs": [],
   "source": [
    "test=df_disease.value_counts().reset_index()"
   ]
  },
  {
   "cell_type": "code",
   "execution_count": 181,
   "id": "95b53a68",
   "metadata": {},
   "outputs": [
    {
     "data": {
      "text/plain": [
       "(519, 2)"
      ]
     },
     "execution_count": 181,
     "metadata": {},
     "output_type": "execute_result"
    }
   ],
   "source": [
    "test.shape"
   ]
  },
  {
   "cell_type": "code",
   "execution_count": 182,
   "id": "e8bcc4e3",
   "metadata": {},
   "outputs": [
    {
     "data": {
      "text/html": [
       "<div>\n",
       "<style scoped>\n",
       "    .dataframe tbody tr th:only-of-type {\n",
       "        vertical-align: middle;\n",
       "    }\n",
       "\n",
       "    .dataframe tbody tr th {\n",
       "        vertical-align: top;\n",
       "    }\n",
       "\n",
       "    .dataframe thead th {\n",
       "        text-align: right;\n",
       "    }\n",
       "</style>\n",
       "<table border=\"1\" class=\"dataframe\">\n",
       "  <thead>\n",
       "    <tr style=\"text-align: right;\">\n",
       "      <th></th>\n",
       "      <th>Disease_ID</th>\n",
       "      <th>0</th>\n",
       "    </tr>\n",
       "  </thead>\n",
       "  <tbody>\n",
       "    <tr>\n",
       "      <th>0</th>\n",
       "      <td>C0033578</td>\n",
       "      <td>485</td>\n",
       "    </tr>\n",
       "    <tr>\n",
       "      <th>1</th>\n",
       "      <td>C0017661</td>\n",
       "      <td>450</td>\n",
       "    </tr>\n",
       "    <tr>\n",
       "      <th>2</th>\n",
       "      <td>C1458155</td>\n",
       "      <td>433</td>\n",
       "    </tr>\n",
       "    <tr>\n",
       "      <th>3</th>\n",
       "      <td>C0028754</td>\n",
       "      <td>298</td>\n",
       "    </tr>\n",
       "    <tr>\n",
       "      <th>4</th>\n",
       "      <td>C0031117</td>\n",
       "      <td>293</td>\n",
       "    </tr>\n",
       "  </tbody>\n",
       "</table>\n",
       "</div>"
      ],
      "text/plain": [
       "  Disease_ID    0\n",
       "0   C0033578  485\n",
       "1   C0017661  450\n",
       "2   C1458155  433\n",
       "3   C0028754  298\n",
       "4   C0031117  293"
      ]
     },
     "execution_count": 182,
     "metadata": {},
     "output_type": "execute_result"
    }
   ],
   "source": [
    "test.head()"
   ]
  },
  {
   "cell_type": "code",
   "execution_count": 183,
   "id": "97a2cd6a",
   "metadata": {},
   "outputs": [
    {
     "data": {
      "text/plain": [
       "[Text(0.5, 0, 'how often a Disease occur'), Text(0, 0.5, 'Count')]"
      ]
     },
     "execution_count": 183,
     "metadata": {},
     "output_type": "execute_result"
    },
    {
     "data": {
      "image/png": "[encoded data removed]",
      "text/plain": [
       "<Figure size 864x576 with 1 Axes>"
      ]
     },
     "metadata": {},
     "output_type": "display_data"
    }
   ],
   "source": [
    "gfg=sns.histplot(data=test, x=0,bins=100)\n",
    "gfg.set(xlabel =\"how often a Disease occur\", ylabel = \"Count\")"
   ]
  },
  {
   "cell_type": "code",
   "execution_count": 184,
   "id": "2936bd37",
   "metadata": {},
   "outputs": [
    {
     "data": {
      "text/html": [
       "<div>\n",
       "<style scoped>\n",
       "    .dataframe tbody tr th:only-of-type {\n",
       "        vertical-align: middle;\n",
       "    }\n",
       "\n",
       "    .dataframe tbody tr th {\n",
       "        vertical-align: top;\n",
       "    }\n",
       "\n",
       "    .dataframe thead th {\n",
       "        text-align: right;\n",
       "    }\n",
       "</style>\n",
       "<table border=\"1\" class=\"dataframe\">\n",
       "  <thead>\n",
       "    <tr style=\"text-align: right;\">\n",
       "      <th></th>\n",
       "      <th>Gene_ID</th>\n",
       "    </tr>\n",
       "    <tr>\n",
       "      <th>Disease_ID</th>\n",
       "      <th></th>\n",
       "    </tr>\n",
       "  </thead>\n",
       "  <tbody>\n",
       "    <tr>\n",
       "      <th>C0000768</th>\n",
       "      <td>11</td>\n",
       "    </tr>\n",
       "    <tr>\n",
       "      <th>C0000786</th>\n",
       "      <td>108</td>\n",
       "    </tr>\n",
       "    <tr>\n",
       "      <th>C0001418</th>\n",
       "      <td>108</td>\n",
       "    </tr>\n",
       "    <tr>\n",
       "      <th>C0001430</th>\n",
       "      <td>32</td>\n",
       "    </tr>\n",
       "    <tr>\n",
       "      <th>C0001624</th>\n",
       "      <td>11</td>\n",
       "    </tr>\n",
       "    <tr>\n",
       "      <th>...</th>\n",
       "      <td>...</td>\n",
       "    </tr>\n",
       "    <tr>\n",
       "      <th>C3495498</th>\n",
       "      <td>10</td>\n",
       "    </tr>\n",
       "    <tr>\n",
       "      <th>C3495559</th>\n",
       "      <td>128</td>\n",
       "    </tr>\n",
       "    <tr>\n",
       "      <th>C3714756</th>\n",
       "      <td>129</td>\n",
       "    </tr>\n",
       "    <tr>\n",
       "      <th>C3809874</th>\n",
       "      <td>21</td>\n",
       "    </tr>\n",
       "    <tr>\n",
       "      <th>C3875321</th>\n",
       "      <td>40</td>\n",
       "    </tr>\n",
       "  </tbody>\n",
       "</table>\n",
       "<p>519 rows × 1 columns</p>\n",
       "</div>"
      ],
      "text/plain": [
       "            Gene_ID\n",
       "Disease_ID         \n",
       "C0000768         11\n",
       "C0000786        108\n",
       "C0001418        108\n",
       "C0001430         32\n",
       "C0001624         11\n",
       "...             ...\n",
       "C3495498         10\n",
       "C3495559        128\n",
       "C3714756        129\n",
       "C3809874         21\n",
       "C3875321         40\n",
       "\n",
       "[519 rows x 1 columns]"
      ]
     },
     "execution_count": 184,
     "metadata": {},
     "output_type": "execute_result"
    }
   ],
   "source": [
    "df.groupby('Disease_ID').count()"
   ]
  },
  {
   "cell_type": "markdown",
   "id": "e9ba443a",
   "metadata": {},
   "source": [
    "# How many Genes occur how often"
   ]
  },
  {
   "cell_type": "code",
   "execution_count": 185,
   "id": "ce99a937",
   "metadata": {},
   "outputs": [],
   "source": [
    "df_Gene=df[[\"Gene_ID\"]] \n",
    "test_Gene=df_Gene.value_counts().reset_index()\n"
   ]
  },
  {
   "cell_type": "code",
   "execution_count": 186,
   "id": "f52e2d6d",
   "metadata": {},
   "outputs": [
    {
     "data": {
      "text/html": [
       "<div>\n",
       "<style scoped>\n",
       "    .dataframe tbody tr th:only-of-type {\n",
       "        vertical-align: middle;\n",
       "    }\n",
       "\n",
       "    .dataframe tbody tr th {\n",
       "        vertical-align: top;\n",
       "    }\n",
       "\n",
       "    .dataframe thead th {\n",
       "        text-align: right;\n",
       "    }\n",
       "</style>\n",
       "<table border=\"1\" class=\"dataframe\">\n",
       "  <thead>\n",
       "    <tr style=\"text-align: right;\">\n",
       "      <th></th>\n",
       "      <th>Gene_ID</th>\n",
       "      <th>0</th>\n",
       "    </tr>\n",
       "  </thead>\n",
       "  <tbody>\n",
       "    <tr>\n",
       "      <th>7244</th>\n",
       "      <td>26276</td>\n",
       "      <td>1</td>\n",
       "    </tr>\n",
       "    <tr>\n",
       "      <th>7245</th>\n",
       "      <td>3749</td>\n",
       "      <td>1</td>\n",
       "    </tr>\n",
       "    <tr>\n",
       "      <th>7246</th>\n",
       "      <td>26278</td>\n",
       "      <td>1</td>\n",
       "    </tr>\n",
       "    <tr>\n",
       "      <th>7247</th>\n",
       "      <td>26281</td>\n",
       "      <td>1</td>\n",
       "    </tr>\n",
       "    <tr>\n",
       "      <th>7248</th>\n",
       "      <td>3746</td>\n",
       "      <td>1</td>\n",
       "    </tr>\n",
       "    <tr>\n",
       "      <th>7249</th>\n",
       "      <td>26289</td>\n",
       "      <td>1</td>\n",
       "    </tr>\n",
       "    <tr>\n",
       "      <th>7250</th>\n",
       "      <td>26298</td>\n",
       "      <td>1</td>\n",
       "    </tr>\n",
       "    <tr>\n",
       "      <th>7251</th>\n",
       "      <td>3797</td>\n",
       "      <td>1</td>\n",
       "    </tr>\n",
       "    <tr>\n",
       "      <th>7252</th>\n",
       "      <td>26330</td>\n",
       "      <td>1</td>\n",
       "    </tr>\n",
       "    <tr>\n",
       "      <th>7253</th>\n",
       "      <td>26353</td>\n",
       "      <td>1</td>\n",
       "    </tr>\n",
       "    <tr>\n",
       "      <th>7254</th>\n",
       "      <td>26354</td>\n",
       "      <td>1</td>\n",
       "    </tr>\n",
       "    <tr>\n",
       "      <th>7255</th>\n",
       "      <td>26470</td>\n",
       "      <td>1</td>\n",
       "    </tr>\n",
       "    <tr>\n",
       "      <th>7256</th>\n",
       "      <td>3741</td>\n",
       "      <td>1</td>\n",
       "    </tr>\n",
       "    <tr>\n",
       "      <th>7257</th>\n",
       "      <td>26472</td>\n",
       "      <td>1</td>\n",
       "    </tr>\n",
       "    <tr>\n",
       "      <th>7258</th>\n",
       "      <td>26499</td>\n",
       "      <td>1</td>\n",
       "    </tr>\n",
       "    <tr>\n",
       "      <th>7259</th>\n",
       "      <td>26503</td>\n",
       "      <td>1</td>\n",
       "    </tr>\n",
       "    <tr>\n",
       "      <th>7260</th>\n",
       "      <td>26507</td>\n",
       "      <td>1</td>\n",
       "    </tr>\n",
       "    <tr>\n",
       "      <th>7261</th>\n",
       "      <td>26508</td>\n",
       "      <td>1</td>\n",
       "    </tr>\n",
       "    <tr>\n",
       "      <th>7262</th>\n",
       "      <td>26511</td>\n",
       "      <td>1</td>\n",
       "    </tr>\n",
       "    <tr>\n",
       "      <th>7263</th>\n",
       "      <td>26524</td>\n",
       "      <td>1</td>\n",
       "    </tr>\n",
       "    <tr>\n",
       "      <th>7264</th>\n",
       "      <td>3752</td>\n",
       "      <td>1</td>\n",
       "    </tr>\n",
       "    <tr>\n",
       "      <th>7265</th>\n",
       "      <td>26230</td>\n",
       "      <td>1</td>\n",
       "    </tr>\n",
       "    <tr>\n",
       "      <th>7266</th>\n",
       "      <td>26229</td>\n",
       "      <td>1</td>\n",
       "    </tr>\n",
       "    <tr>\n",
       "      <th>7267</th>\n",
       "      <td>26228</td>\n",
       "      <td>1</td>\n",
       "    </tr>\n",
       "    <tr>\n",
       "      <th>7268</th>\n",
       "      <td>3786</td>\n",
       "      <td>1</td>\n",
       "    </tr>\n",
       "    <tr>\n",
       "      <th>7269</th>\n",
       "      <td>26019</td>\n",
       "      <td>1</td>\n",
       "    </tr>\n",
       "    <tr>\n",
       "      <th>7270</th>\n",
       "      <td>26022</td>\n",
       "      <td>1</td>\n",
       "    </tr>\n",
       "    <tr>\n",
       "      <th>7271</th>\n",
       "      <td>26031</td>\n",
       "      <td>1</td>\n",
       "    </tr>\n",
       "    <tr>\n",
       "      <th>7272</th>\n",
       "      <td>3783</td>\n",
       "      <td>1</td>\n",
       "    </tr>\n",
       "    <tr>\n",
       "      <th>7273</th>\n",
       "      <td>3781</td>\n",
       "      <td>1</td>\n",
       "    </tr>\n",
       "    <tr>\n",
       "      <th>7274</th>\n",
       "      <td>3779</td>\n",
       "      <td>1</td>\n",
       "    </tr>\n",
       "    <tr>\n",
       "      <th>7275</th>\n",
       "      <td>3777</td>\n",
       "      <td>1</td>\n",
       "    </tr>\n",
       "    <tr>\n",
       "      <th>7276</th>\n",
       "      <td>26051</td>\n",
       "      <td>1</td>\n",
       "    </tr>\n",
       "    <tr>\n",
       "      <th>7277</th>\n",
       "      <td>26052</td>\n",
       "      <td>1</td>\n",
       "    </tr>\n",
       "    <tr>\n",
       "      <th>7278</th>\n",
       "      <td>3776</td>\n",
       "      <td>1</td>\n",
       "    </tr>\n",
       "    <tr>\n",
       "      <th>7279</th>\n",
       "      <td>26056</td>\n",
       "      <td>1</td>\n",
       "    </tr>\n",
       "    <tr>\n",
       "      <th>7280</th>\n",
       "      <td>26058</td>\n",
       "      <td>1</td>\n",
       "    </tr>\n",
       "    <tr>\n",
       "      <th>7281</th>\n",
       "      <td>3775</td>\n",
       "      <td>1</td>\n",
       "    </tr>\n",
       "    <tr>\n",
       "      <th>7282</th>\n",
       "      <td>26121</td>\n",
       "      <td>1</td>\n",
       "    </tr>\n",
       "    <tr>\n",
       "      <th>7283</th>\n",
       "      <td>3769</td>\n",
       "      <td>1</td>\n",
       "    </tr>\n",
       "    <tr>\n",
       "      <th>7284</th>\n",
       "      <td>3766</td>\n",
       "      <td>1</td>\n",
       "    </tr>\n",
       "    <tr>\n",
       "      <th>7285</th>\n",
       "      <td>26136</td>\n",
       "      <td>1</td>\n",
       "    </tr>\n",
       "    <tr>\n",
       "      <th>7286</th>\n",
       "      <td>26137</td>\n",
       "      <td>1</td>\n",
       "    </tr>\n",
       "    <tr>\n",
       "      <th>7287</th>\n",
       "      <td>26146</td>\n",
       "      <td>1</td>\n",
       "    </tr>\n",
       "    <tr>\n",
       "      <th>7288</th>\n",
       "      <td>26147</td>\n",
       "      <td>1</td>\n",
       "    </tr>\n",
       "    <tr>\n",
       "      <th>7289</th>\n",
       "      <td>26150</td>\n",
       "      <td>1</td>\n",
       "    </tr>\n",
       "    <tr>\n",
       "      <th>7290</th>\n",
       "      <td>26154</td>\n",
       "      <td>1</td>\n",
       "    </tr>\n",
       "    <tr>\n",
       "      <th>7291</th>\n",
       "      <td>26166</td>\n",
       "      <td>1</td>\n",
       "    </tr>\n",
       "    <tr>\n",
       "      <th>7292</th>\n",
       "      <td>3758</td>\n",
       "      <td>1</td>\n",
       "    </tr>\n",
       "    <tr>\n",
       "      <th>7293</th>\n",
       "      <td>9162</td>\n",
       "      <td>1</td>\n",
       "    </tr>\n",
       "  </tbody>\n",
       "</table>\n",
       "</div>"
      ],
      "text/plain": [
       "      Gene_ID  0\n",
       "7244    26276  1\n",
       "7245     3749  1\n",
       "7246    26278  1\n",
       "7247    26281  1\n",
       "7248     3746  1\n",
       "7249    26289  1\n",
       "7250    26298  1\n",
       "7251     3797  1\n",
       "7252    26330  1\n",
       "7253    26353  1\n",
       "7254    26354  1\n",
       "7255    26470  1\n",
       "7256     3741  1\n",
       "7257    26472  1\n",
       "7258    26499  1\n",
       "7259    26503  1\n",
       "7260    26507  1\n",
       "7261    26508  1\n",
       "7262    26511  1\n",
       "7263    26524  1\n",
       "7264     3752  1\n",
       "7265    26230  1\n",
       "7266    26229  1\n",
       "7267    26228  1\n",
       "7268     3786  1\n",
       "7269    26019  1\n",
       "7270    26022  1\n",
       "7271    26031  1\n",
       "7272     3783  1\n",
       "7273     3781  1\n",
       "7274     3779  1\n",
       "7275     3777  1\n",
       "7276    26051  1\n",
       "7277    26052  1\n",
       "7278     3776  1\n",
       "7279    26056  1\n",
       "7280    26058  1\n",
       "7281     3775  1\n",
       "7282    26121  1\n",
       "7283     3769  1\n",
       "7284     3766  1\n",
       "7285    26136  1\n",
       "7286    26137  1\n",
       "7287    26146  1\n",
       "7288    26147  1\n",
       "7289    26150  1\n",
       "7290    26154  1\n",
       "7291    26166  1\n",
       "7292     3758  1\n",
       "7293     9162  1"
      ]
     },
     "execution_count": 186,
     "metadata": {},
     "output_type": "execute_result"
    }
   ],
   "source": [
    "test_Gene.tail(50)"
   ]
  },
  {
   "cell_type": "code",
   "execution_count": 187,
   "id": "b8039eb6",
   "metadata": {},
   "outputs": [
    {
     "name": "stdout",
     "output_type": "stream",
     "text": [
      "           Disease_ID\n",
      "Gene_ID              \n",
      "2                   8\n",
      "9                   5\n",
      "10                 10\n",
      "12                  2\n",
      "16                  1\n",
      "...               ...\n",
      "102724748           2\n",
      "102724766           3\n",
      "102724814           1\n",
      "102725019           1\n",
      "102800310           2\n",
      "\n",
      "[7294 rows x 1 columns]\n"
     ]
    }
   ],
   "source": [
    "print(df.groupby('Gene_ID').count())"
   ]
  },
  {
   "cell_type": "code",
   "execution_count": 188,
   "id": "1b7e46d0",
   "metadata": {},
   "outputs": [
    {
     "data": {
      "text/plain": [
       "[Text(0.5, 0, 'how often a Gene occur'), Text(0, 0.5, 'Count')]"
      ]
     },
     "execution_count": 188,
     "metadata": {},
     "output_type": "execute_result"
    },
    {
     "data": {
      "image/png": "[encoded data removed]",
      "text/plain": [
       "<Figure size 864x576 with 1 Axes>"
      ]
     },
     "metadata": {},
     "output_type": "display_data"
    }
   ],
   "source": [
    "gfg=sns.histplot(data=test_Gene[-7000:], x=0,bins=100)\n",
    "gfg.set(xlabel =\"how often a Gene occur\", ylabel = \"Count\") \n",
    "# bsp. es gibt über3500  Gene die einmal vor kommen\n",
    "#welche Diseases  haben die gene die nur einmal vorkommen\n",
    "#-> gibt es ein dises das NUR dieses n dieser einzelnen "
   ]
  },
  {
   "cell_type": "code",
   "execution_count": 189,
   "id": "53631343",
   "metadata": {},
   "outputs": [
    {
     "data": {
      "text/plain": [
       "<AxesSubplot:xlabel='0', ylabel='count'>"
      ]
     },
     "execution_count": 189,
     "metadata": {},
     "output_type": "execute_result"
    },
    {
     "data": {
      "image/png": "[encoded data removed]",
      "text/plain": [
       "<Figure size 864x576 with 1 Axes>"
      ]
     },
     "metadata": {},
     "output_type": "display_data"
    }
   ],
   "source": [
    "sns.countplot(x=0, data=test_Gene, palette=\"coolwarm\")\n"
   ]
  },
  {
   "cell_type": "markdown",
   "id": "be70c2ba",
   "metadata": {},
   "source": [
    "# Datset with the most two common  cancertypes"
   ]
  },
  {
   "cell_type": "code",
   "execution_count": 190,
   "id": "d898534e",
   "metadata": {},
   "outputs": [
    {
     "data": {
      "text/html": [
       "<div>\n",
       "<style scoped>\n",
       "    .dataframe tbody tr th:only-of-type {\n",
       "        vertical-align: middle;\n",
       "    }\n",
       "\n",
       "    .dataframe tbody tr th {\n",
       "        vertical-align: top;\n",
       "    }\n",
       "\n",
       "    .dataframe thead th {\n",
       "        text-align: right;\n",
       "    }\n",
       "</style>\n",
       "<table border=\"1\" class=\"dataframe\">\n",
       "  <thead>\n",
       "    <tr style=\"text-align: right;\">\n",
       "      <th></th>\n",
       "      <th>Disease_ID</th>\n",
       "      <th>Gene_ID</th>\n",
       "    </tr>\n",
       "  </thead>\n",
       "  <tbody>\n",
       "    <tr>\n",
       "      <th>0</th>\n",
       "      <td>C0036095</td>\n",
       "      <td>1462</td>\n",
       "    </tr>\n",
       "    <tr>\n",
       "      <th>1</th>\n",
       "      <td>C0036095</td>\n",
       "      <td>1612</td>\n",
       "    </tr>\n",
       "    <tr>\n",
       "      <th>2</th>\n",
       "      <td>C0036095</td>\n",
       "      <td>182</td>\n",
       "    </tr>\n",
       "    <tr>\n",
       "      <th>3</th>\n",
       "      <td>C0036095</td>\n",
       "      <td>2011</td>\n",
       "    </tr>\n",
       "    <tr>\n",
       "      <th>4</th>\n",
       "      <td>C0036095</td>\n",
       "      <td>2019</td>\n",
       "    </tr>\n",
       "  </tbody>\n",
       "</table>\n",
       "</div>"
      ],
      "text/plain": [
       "  Disease_ID  Gene_ID\n",
       "0   C0036095     1462\n",
       "1   C0036095     1612\n",
       "2   C0036095      182\n",
       "3   C0036095     2011\n",
       "4   C0036095     2019"
      ]
     },
     "execution_count": 190,
     "metadata": {},
     "output_type": "execute_result"
    }
   ],
   "source": [
    "df.head()"
   ]
  },
  {
   "cell_type": "code",
   "execution_count": 191,
   "id": "6aba4cba",
   "metadata": {},
   "outputs": [
    {
     "data": {
      "text/plain": [
       "C0033578    485\n",
       "C0017661    450\n",
       "C1458155    433\n",
       "C0028754    298\n",
       "C0031117    293\n",
       "C0038356    284\n",
       "C0036341    280\n",
       "C0004352    254\n",
       "C0009404    232\n",
       "C2239176    222\n",
       "Name: Disease_ID, dtype: int64"
      ]
     },
     "execution_count": 191,
     "metadata": {},
     "output_type": "execute_result"
    }
   ],
   "source": [
    "df['Disease_ID'].value_counts()[:10]"
   ]
  },
  {
   "cell_type": "markdown",
   "id": "b7c8e9d1",
   "metadata": {},
   "source": [
    "# Remove C on Disease_ID"
   ]
  },
  {
   "cell_type": "code",
   "execution_count": 137,
   "id": "43ffde62",
   "metadata": {},
   "outputs": [],
   "source": [
    "#df['Disease_ID']=df['Disease_ID'].str[1:]"
   ]
  },
  {
   "cell_type": "code",
   "execution_count": 192,
   "id": "1c08981a",
   "metadata": {},
   "outputs": [
    {
     "data": {
      "text/html": [
       "<div>\n",
       "<style scoped>\n",
       "    .dataframe tbody tr th:only-of-type {\n",
       "        vertical-align: middle;\n",
       "    }\n",
       "\n",
       "    .dataframe tbody tr th {\n",
       "        vertical-align: top;\n",
       "    }\n",
       "\n",
       "    .dataframe thead th {\n",
       "        text-align: right;\n",
       "    }\n",
       "</style>\n",
       "<table border=\"1\" class=\"dataframe\">\n",
       "  <thead>\n",
       "    <tr style=\"text-align: right;\">\n",
       "      <th></th>\n",
       "      <th>Disease_ID</th>\n",
       "      <th>Gene_ID</th>\n",
       "    </tr>\n",
       "  </thead>\n",
       "  <tbody>\n",
       "    <tr>\n",
       "      <th>0</th>\n",
       "      <td>C0036095</td>\n",
       "      <td>1462</td>\n",
       "    </tr>\n",
       "    <tr>\n",
       "      <th>1</th>\n",
       "      <td>C0036095</td>\n",
       "      <td>1612</td>\n",
       "    </tr>\n",
       "    <tr>\n",
       "      <th>2</th>\n",
       "      <td>C0036095</td>\n",
       "      <td>182</td>\n",
       "    </tr>\n",
       "    <tr>\n",
       "      <th>3</th>\n",
       "      <td>C0036095</td>\n",
       "      <td>2011</td>\n",
       "    </tr>\n",
       "    <tr>\n",
       "      <th>4</th>\n",
       "      <td>C0036095</td>\n",
       "      <td>2019</td>\n",
       "    </tr>\n",
       "  </tbody>\n",
       "</table>\n",
       "</div>"
      ],
      "text/plain": [
       "  Disease_ID  Gene_ID\n",
       "0   C0036095     1462\n",
       "1   C0036095     1612\n",
       "2   C0036095      182\n",
       "3   C0036095     2011\n",
       "4   C0036095     2019"
      ]
     },
     "execution_count": 192,
     "metadata": {},
     "output_type": "execute_result"
    }
   ],
   "source": [
    "df.head()"
   ]
  },
  {
   "cell_type": "code",
   "execution_count": 193,
   "id": "8f725520",
   "metadata": {},
   "outputs": [],
   "source": [
    "top_2_Disease=df[df['Disease_ID'].isin(['C0033578','C0017661'])]"
   ]
  },
  {
   "cell_type": "code",
   "execution_count": 194,
   "id": "b749c668",
   "metadata": {},
   "outputs": [
    {
     "data": {
      "text/html": [
       "<div>\n",
       "<style scoped>\n",
       "    .dataframe tbody tr th:only-of-type {\n",
       "        vertical-align: middle;\n",
       "    }\n",
       "\n",
       "    .dataframe tbody tr th {\n",
       "        vertical-align: top;\n",
       "    }\n",
       "\n",
       "    .dataframe thead th {\n",
       "        text-align: right;\n",
       "    }\n",
       "</style>\n",
       "<table border=\"1\" class=\"dataframe\">\n",
       "  <thead>\n",
       "    <tr style=\"text-align: right;\">\n",
       "      <th></th>\n",
       "      <th>Disease_ID</th>\n",
       "      <th>Gene_ID</th>\n",
       "    </tr>\n",
       "  </thead>\n",
       "  <tbody>\n",
       "    <tr>\n",
       "      <th>4114</th>\n",
       "      <td>C0033578</td>\n",
       "      <td>10</td>\n",
       "    </tr>\n",
       "    <tr>\n",
       "      <th>4115</th>\n",
       "      <td>C0033578</td>\n",
       "      <td>10013</td>\n",
       "    </tr>\n",
       "    <tr>\n",
       "      <th>4116</th>\n",
       "      <td>C0033578</td>\n",
       "      <td>100188789</td>\n",
       "    </tr>\n",
       "    <tr>\n",
       "      <th>4117</th>\n",
       "      <td>C0033578</td>\n",
       "      <td>10040</td>\n",
       "    </tr>\n",
       "    <tr>\n",
       "      <th>4118</th>\n",
       "      <td>C0033578</td>\n",
       "      <td>1012</td>\n",
       "    </tr>\n",
       "    <tr>\n",
       "      <th>...</th>\n",
       "      <td>...</td>\n",
       "      <td>...</td>\n",
       "    </tr>\n",
       "    <tr>\n",
       "      <th>19446</th>\n",
       "      <td>C0017661</td>\n",
       "      <td>9889</td>\n",
       "    </tr>\n",
       "    <tr>\n",
       "      <th>19447</th>\n",
       "      <td>C0017661</td>\n",
       "      <td>991</td>\n",
       "    </tr>\n",
       "    <tr>\n",
       "      <th>19448</th>\n",
       "      <td>C0017661</td>\n",
       "      <td>9926</td>\n",
       "    </tr>\n",
       "    <tr>\n",
       "      <th>19449</th>\n",
       "      <td>C0017661</td>\n",
       "      <td>9928</td>\n",
       "    </tr>\n",
       "    <tr>\n",
       "      <th>19450</th>\n",
       "      <td>C0017661</td>\n",
       "      <td>9943</td>\n",
       "    </tr>\n",
       "  </tbody>\n",
       "</table>\n",
       "<p>935 rows × 2 columns</p>\n",
       "</div>"
      ],
      "text/plain": [
       "      Disease_ID    Gene_ID\n",
       "4114    C0033578         10\n",
       "4115    C0033578      10013\n",
       "4116    C0033578  100188789\n",
       "4117    C0033578      10040\n",
       "4118    C0033578       1012\n",
       "...          ...        ...\n",
       "19446   C0017661       9889\n",
       "19447   C0017661        991\n",
       "19448   C0017661       9926\n",
       "19449   C0017661       9928\n",
       "19450   C0017661       9943\n",
       "\n",
       "[935 rows x 2 columns]"
      ]
     },
     "execution_count": 194,
     "metadata": {},
     "output_type": "execute_result"
    }
   ],
   "source": [
    "top_2_Disease"
   ]
  },
  {
   "cell_type": "code",
   "execution_count": 195,
   "id": "51246131",
   "metadata": {},
   "outputs": [
    {
     "data": {
      "text/plain": [
       "(935, 2)"
      ]
     },
     "execution_count": 195,
     "metadata": {},
     "output_type": "execute_result"
    }
   ],
   "source": [
    "top_2_Disease.shape"
   ]
  },
  {
   "cell_type": "markdown",
   "id": "0e27a7b9",
   "metadata": {},
   "source": [
    "# All Genes that occur  in the top 2 Disease"
   ]
  },
  {
   "cell_type": "code",
   "execution_count": 196,
   "id": "425beabd",
   "metadata": {},
   "outputs": [
    {
     "data": {
      "text/plain": [
       "<AxesSubplot:xlabel='count', ylabel='Gene_ID'>"
      ]
     },
     "execution_count": 196,
     "metadata": {},
     "output_type": "execute_result"
    },
    {
     "data": {
      "image/png": "[encoded data removed]",
      "text/plain": [
       "<Figure size 864x576 with 1 Axes>"
      ]
     },
     "metadata": {},
     "output_type": "display_data"
    }
   ],
   "source": [
    "sns.countplot(y=\"Gene_ID\", data=top_2_Disease, palette=\"coolwarm\",\n",
    "              order=top_2_Disease.Gene_ID.value_counts().iloc[:23].index)"
   ]
  },
  {
   "cell_type": "code",
   "execution_count": 197,
   "id": "e8dc1a94",
   "metadata": {},
   "outputs": [],
   "source": [
    "top_2_Disease.to_csv(\"top_2_Diseases_ID.csv\",index=False)"
   ]
  },
  {
   "cell_type": "code",
   "execution_count": 198,
   "id": "70d8da07",
   "metadata": {},
   "outputs": [],
   "source": [
    "ok=pd.read_csv(\"top_2_Diseases_ID.csv\")"
   ]
  },
  {
   "cell_type": "code",
   "execution_count": 199,
   "id": "fb561488",
   "metadata": {},
   "outputs": [
    {
     "data": {
      "text/html": [
       "<div>\n",
       "<style scoped>\n",
       "    .dataframe tbody tr th:only-of-type {\n",
       "        vertical-align: middle;\n",
       "    }\n",
       "\n",
       "    .dataframe tbody tr th {\n",
       "        vertical-align: top;\n",
       "    }\n",
       "\n",
       "    .dataframe thead th {\n",
       "        text-align: right;\n",
       "    }\n",
       "</style>\n",
       "<table border=\"1\" class=\"dataframe\">\n",
       "  <thead>\n",
       "    <tr style=\"text-align: right;\">\n",
       "      <th></th>\n",
       "      <th>Disease_ID</th>\n",
       "      <th>Gene_ID</th>\n",
       "    </tr>\n",
       "  </thead>\n",
       "  <tbody>\n",
       "    <tr>\n",
       "      <th>0</th>\n",
       "      <td>C0033578</td>\n",
       "      <td>10</td>\n",
       "    </tr>\n",
       "    <tr>\n",
       "      <th>1</th>\n",
       "      <td>C0033578</td>\n",
       "      <td>10013</td>\n",
       "    </tr>\n",
       "    <tr>\n",
       "      <th>2</th>\n",
       "      <td>C0033578</td>\n",
       "      <td>100188789</td>\n",
       "    </tr>\n",
       "    <tr>\n",
       "      <th>3</th>\n",
       "      <td>C0033578</td>\n",
       "      <td>10040</td>\n",
       "    </tr>\n",
       "    <tr>\n",
       "      <th>4</th>\n",
       "      <td>C0033578</td>\n",
       "      <td>1012</td>\n",
       "    </tr>\n",
       "  </tbody>\n",
       "</table>\n",
       "</div>"
      ],
      "text/plain": [
       "  Disease_ID    Gene_ID\n",
       "0   C0033578         10\n",
       "1   C0033578      10013\n",
       "2   C0033578  100188789\n",
       "3   C0033578      10040\n",
       "4   C0033578       1012"
      ]
     },
     "execution_count": 199,
     "metadata": {},
     "output_type": "execute_result"
    }
   ],
   "source": [
    "ok.head()"
   ]
  },
  {
   "cell_type": "markdown",
   "id": "93a6bc92",
   "metadata": {},
   "source": [
    "# Dataset with the least common cancertypes"
   ]
  },
  {
   "cell_type": "code",
   "execution_count": 200,
   "id": "03a8250b",
   "metadata": {},
   "outputs": [],
   "source": [
    "low_2_df_diseases=df['Disease_ID'].value_counts().tail(41)\n"
   ]
  },
  {
   "cell_type": "code",
   "execution_count": 201,
   "id": "32c91d12",
   "metadata": {},
   "outputs": [
    {
     "data": {
      "text/plain": [
       "C0333641    10\n",
       "C0027707    10\n",
       "C0029401    10\n",
       "C0040411    10\n",
       "C0005283    10\n",
       "C0403553    10\n",
       "C0024796    10\n",
       "C0270853    10\n",
       "C0268583    10\n",
       "C0005612    10\n",
       "C0265275    10\n",
       "C0349788    10\n",
       "C0242350    10\n",
       "C0019209    10\n",
       "C0011991    10\n",
       "C0014553    10\n",
       "C0014549    10\n",
       "C0024809    10\n",
       "C1565489    10\n",
       "C0206754    10\n",
       "C0007785    10\n",
       "C0003864    10\n",
       "C0853897    10\n",
       "C0040427    10\n",
       "C0007787    10\n",
       "C0018099    10\n",
       "C0042514    10\n",
       "C0020615    10\n",
       "C0002895    10\n",
       "C2931673    10\n",
       "C3495498    10\n",
       "C0032580    10\n",
       "C0162670    10\n",
       "C0429087    10\n",
       "C0079541    10\n",
       "C0015934    10\n",
       "C0018621    10\n",
       "C0006625    10\n",
       "C0268363    10\n",
       "C0037268    10\n",
       "C0175702    10\n",
       "Name: Disease_ID, dtype: int64"
      ]
     },
     "execution_count": 201,
     "metadata": {},
     "output_type": "execute_result"
    }
   ],
   "source": [
    "low_2_df_diseases"
   ]
  },
  {
   "cell_type": "code",
   "execution_count": 202,
   "id": "0a4a9bdf",
   "metadata": {},
   "outputs": [],
   "source": [
    "low_41_Disease=df[df['Disease_ID'].isin([\"C0333641\",\"C0027707\",\"C0029401\",\"C0040411\",\"C0005283\",\"C0403553\",\"C0024796\",\"C0270853\",\"C0268583\",\"C0005612\",\"C0265275\",\"C0349788\",\"C0242350\",\"C0019209\",\"C0011991\",\"C0014553\",\"C0014549\",\"C0024809\",\"C1565489\",\"C0206754\",\"C0007785\",\"C0003864\",\"C0853897\",\"C0040427\",\"C0007787\",\"C0018099\",\"C0042514\",\"C0020615\",\"C0002895\",\"C2931673\",\"C3495498\",\"C0032580\",\"C0162670\",\"C0429087\",\"C0079541\",\"C0015934\",\"C0018621\",\"C0006625\",\"C0268363\",\"C0037268\",\"C0175702\"])]\n"
   ]
  },
  {
   "cell_type": "code",
   "execution_count": 203,
   "id": "34f57431",
   "metadata": {},
   "outputs": [
    {
     "data": {
      "text/html": [
       "<div>\n",
       "<style scoped>\n",
       "    .dataframe tbody tr th:only-of-type {\n",
       "        vertical-align: middle;\n",
       "    }\n",
       "\n",
       "    .dataframe tbody tr th {\n",
       "        vertical-align: top;\n",
       "    }\n",
       "\n",
       "    .dataframe thead th {\n",
       "        text-align: right;\n",
       "    }\n",
       "</style>\n",
       "<table border=\"1\" class=\"dataframe\">\n",
       "  <thead>\n",
       "    <tr style=\"text-align: right;\">\n",
       "      <th></th>\n",
       "      <th>Disease_ID</th>\n",
       "      <th>Gene_ID</th>\n",
       "    </tr>\n",
       "  </thead>\n",
       "  <tbody>\n",
       "    <tr>\n",
       "      <th>643</th>\n",
       "      <td>C0206754</td>\n",
       "      <td>1027</td>\n",
       "    </tr>\n",
       "    <tr>\n",
       "      <th>644</th>\n",
       "      <td>C0206754</td>\n",
       "      <td>1616</td>\n",
       "    </tr>\n",
       "    <tr>\n",
       "      <th>645</th>\n",
       "      <td>C0206754</td>\n",
       "      <td>4221</td>\n",
       "    </tr>\n",
       "    <tr>\n",
       "      <th>646</th>\n",
       "      <td>C0206754</td>\n",
       "      <td>546</td>\n",
       "    </tr>\n",
       "    <tr>\n",
       "      <th>647</th>\n",
       "      <td>C0206754</td>\n",
       "      <td>5744</td>\n",
       "    </tr>\n",
       "    <tr>\n",
       "      <th>...</th>\n",
       "      <td>...</td>\n",
       "      <td>...</td>\n",
       "    </tr>\n",
       "    <tr>\n",
       "      <th>20247</th>\n",
       "      <td>C0037268</td>\n",
       "      <td>6648</td>\n",
       "    </tr>\n",
       "    <tr>\n",
       "      <th>20248</th>\n",
       "      <td>C0037268</td>\n",
       "      <td>6832</td>\n",
       "    </tr>\n",
       "    <tr>\n",
       "      <th>20249</th>\n",
       "      <td>C0037268</td>\n",
       "      <td>84627</td>\n",
       "    </tr>\n",
       "    <tr>\n",
       "      <th>20250</th>\n",
       "      <td>C0037268</td>\n",
       "      <td>8626</td>\n",
       "    </tr>\n",
       "    <tr>\n",
       "      <th>20251</th>\n",
       "      <td>C0037268</td>\n",
       "      <td>92344</td>\n",
       "    </tr>\n",
       "  </tbody>\n",
       "</table>\n",
       "<p>410 rows × 2 columns</p>\n",
       "</div>"
      ],
      "text/plain": [
       "      Disease_ID  Gene_ID\n",
       "643     C0206754     1027\n",
       "644     C0206754     1616\n",
       "645     C0206754     4221\n",
       "646     C0206754      546\n",
       "647     C0206754     5744\n",
       "...          ...      ...\n",
       "20247   C0037268     6648\n",
       "20248   C0037268     6832\n",
       "20249   C0037268    84627\n",
       "20250   C0037268     8626\n",
       "20251   C0037268    92344\n",
       "\n",
       "[410 rows x 2 columns]"
      ]
     },
     "execution_count": 203,
     "metadata": {},
     "output_type": "execute_result"
    }
   ],
   "source": [
    "low_41_Disease"
   ]
  },
  {
   "cell_type": "markdown",
   "id": "c2b02ea1",
   "metadata": {},
   "source": [
    "# Most common Genes that appear in all low Diseases"
   ]
  },
  {
   "cell_type": "code",
   "execution_count": 204,
   "id": "b8db72cf",
   "metadata": {},
   "outputs": [
    {
     "data": {
      "text/plain": [
       "<AxesSubplot:xlabel='count', ylabel='Gene_ID'>"
      ]
     },
     "execution_count": 204,
     "metadata": {},
     "output_type": "execute_result"
    },
    {
     "data": {
      "image/png": "[encoded data removed]",
      "text/plain": [
       "<Figure size 864x576 with 1 Axes>"
      ]
     },
     "metadata": {},
     "output_type": "display_data"
    }
   ],
   "source": [
    "sns.countplot(y=\"Gene_ID\", data=low_41_Disease, palette=\"coolwarm\",\n",
    "              order=low_41_Disease.Gene_ID.value_counts().iloc[:24].index)"
   ]
  },
  {
   "cell_type": "code",
   "execution_count": 205,
   "id": "7a2c23f1",
   "metadata": {},
   "outputs": [],
   "source": [
    "low_41_Disease.to_csv(\"low_41_Disease_ID.csv\",index=False)"
   ]
  },
  {
   "cell_type": "code",
   "execution_count": 206,
   "id": "48cb4579",
   "metadata": {},
   "outputs": [],
   "source": [
    "ok_2=pd.read_csv(\"low_41_Disease_ID.csv\")"
   ]
  },
  {
   "cell_type": "code",
   "execution_count": 207,
   "id": "cc85cfa6",
   "metadata": {},
   "outputs": [
    {
     "data": {
      "text/html": [
       "<div>\n",
       "<style scoped>\n",
       "    .dataframe tbody tr th:only-of-type {\n",
       "        vertical-align: middle;\n",
       "    }\n",
       "\n",
       "    .dataframe tbody tr th {\n",
       "        vertical-align: top;\n",
       "    }\n",
       "\n",
       "    .dataframe thead th {\n",
       "        text-align: right;\n",
       "    }\n",
       "</style>\n",
       "<table border=\"1\" class=\"dataframe\">\n",
       "  <thead>\n",
       "    <tr style=\"text-align: right;\">\n",
       "      <th></th>\n",
       "      <th>Disease_ID</th>\n",
       "      <th>Gene_ID</th>\n",
       "    </tr>\n",
       "  </thead>\n",
       "  <tbody>\n",
       "    <tr>\n",
       "      <th>0</th>\n",
       "      <td>C0206754</td>\n",
       "      <td>1027</td>\n",
       "    </tr>\n",
       "    <tr>\n",
       "      <th>1</th>\n",
       "      <td>C0206754</td>\n",
       "      <td>1616</td>\n",
       "    </tr>\n",
       "    <tr>\n",
       "      <th>2</th>\n",
       "      <td>C0206754</td>\n",
       "      <td>4221</td>\n",
       "    </tr>\n",
       "    <tr>\n",
       "      <th>3</th>\n",
       "      <td>C0206754</td>\n",
       "      <td>546</td>\n",
       "    </tr>\n",
       "    <tr>\n",
       "      <th>4</th>\n",
       "      <td>C0206754</td>\n",
       "      <td>5744</td>\n",
       "    </tr>\n",
       "    <tr>\n",
       "      <th>...</th>\n",
       "      <td>...</td>\n",
       "      <td>...</td>\n",
       "    </tr>\n",
       "    <tr>\n",
       "      <th>345</th>\n",
       "      <td>C0003864</td>\n",
       "      <td>3240</td>\n",
       "    </tr>\n",
       "    <tr>\n",
       "      <th>346</th>\n",
       "      <td>C0003864</td>\n",
       "      <td>51300</td>\n",
       "    </tr>\n",
       "    <tr>\n",
       "      <th>347</th>\n",
       "      <td>C0003864</td>\n",
       "      <td>7538</td>\n",
       "    </tr>\n",
       "    <tr>\n",
       "      <th>348</th>\n",
       "      <td>C0003864</td>\n",
       "      <td>79679</td>\n",
       "    </tr>\n",
       "    <tr>\n",
       "      <th>349</th>\n",
       "      <td>C0003864</td>\n",
       "      <td>969</td>\n",
       "    </tr>\n",
       "  </tbody>\n",
       "</table>\n",
       "<p>350 rows × 2 columns</p>\n",
       "</div>"
      ],
      "text/plain": [
       "    Disease_ID  Gene_ID\n",
       "0     C0206754     1027\n",
       "1     C0206754     1616\n",
       "2     C0206754     4221\n",
       "3     C0206754      546\n",
       "4     C0206754     5744\n",
       "..         ...      ...\n",
       "345   C0003864     3240\n",
       "346   C0003864    51300\n",
       "347   C0003864     7538\n",
       "348   C0003864    79679\n",
       "349   C0003864      969\n",
       "\n",
       "[350 rows x 2 columns]"
      ]
     },
     "execution_count": 207,
     "metadata": {},
     "output_type": "execute_result"
    }
   ],
   "source": [
    "ok_2.head(-60)"
   ]
  },
  {
   "cell_type": "markdown",
   "id": "ef7f033b",
   "metadata": {},
   "source": [
    "# Correlation between low and high Diseases"
   ]
  },
  {
   "cell_type": "code",
   "execution_count": 208,
   "id": "b7128c35",
   "metadata": {},
   "outputs": [],
   "source": [
    "#Merge data\n",
    "ok_final=pd.concat([ok,ok_2], axis=0)\n",
    "#heatmap\n",
    "#korrelation"
   ]
  },
  {
   "cell_type": "code",
   "execution_count": 209,
   "id": "bfb8ab36",
   "metadata": {},
   "outputs": [
    {
     "data": {
      "text/html": [
       "<div>\n",
       "<style scoped>\n",
       "    .dataframe tbody tr th:only-of-type {\n",
       "        vertical-align: middle;\n",
       "    }\n",
       "\n",
       "    .dataframe tbody tr th {\n",
       "        vertical-align: top;\n",
       "    }\n",
       "\n",
       "    .dataframe thead th {\n",
       "        text-align: right;\n",
       "    }\n",
       "</style>\n",
       "<table border=\"1\" class=\"dataframe\">\n",
       "  <thead>\n",
       "    <tr style=\"text-align: right;\">\n",
       "      <th></th>\n",
       "      <th>Disease_ID</th>\n",
       "      <th>Gene_ID</th>\n",
       "    </tr>\n",
       "  </thead>\n",
       "  <tbody>\n",
       "    <tr>\n",
       "      <th>0</th>\n",
       "      <td>C0033578</td>\n",
       "      <td>10</td>\n",
       "    </tr>\n",
       "    <tr>\n",
       "      <th>1</th>\n",
       "      <td>C0033578</td>\n",
       "      <td>10013</td>\n",
       "    </tr>\n",
       "    <tr>\n",
       "      <th>2</th>\n",
       "      <td>C0033578</td>\n",
       "      <td>100188789</td>\n",
       "    </tr>\n",
       "    <tr>\n",
       "      <th>3</th>\n",
       "      <td>C0033578</td>\n",
       "      <td>10040</td>\n",
       "    </tr>\n",
       "    <tr>\n",
       "      <th>4</th>\n",
       "      <td>C0033578</td>\n",
       "      <td>1012</td>\n",
       "    </tr>\n",
       "    <tr>\n",
       "      <th>...</th>\n",
       "      <td>...</td>\n",
       "      <td>...</td>\n",
       "    </tr>\n",
       "    <tr>\n",
       "      <th>405</th>\n",
       "      <td>C0037268</td>\n",
       "      <td>6648</td>\n",
       "    </tr>\n",
       "    <tr>\n",
       "      <th>406</th>\n",
       "      <td>C0037268</td>\n",
       "      <td>6832</td>\n",
       "    </tr>\n",
       "    <tr>\n",
       "      <th>407</th>\n",
       "      <td>C0037268</td>\n",
       "      <td>84627</td>\n",
       "    </tr>\n",
       "    <tr>\n",
       "      <th>408</th>\n",
       "      <td>C0037268</td>\n",
       "      <td>8626</td>\n",
       "    </tr>\n",
       "    <tr>\n",
       "      <th>409</th>\n",
       "      <td>C0037268</td>\n",
       "      <td>92344</td>\n",
       "    </tr>\n",
       "  </tbody>\n",
       "</table>\n",
       "<p>1345 rows × 2 columns</p>\n",
       "</div>"
      ],
      "text/plain": [
       "    Disease_ID    Gene_ID\n",
       "0     C0033578         10\n",
       "1     C0033578      10013\n",
       "2     C0033578  100188789\n",
       "3     C0033578      10040\n",
       "4     C0033578       1012\n",
       "..         ...        ...\n",
       "405   C0037268       6648\n",
       "406   C0037268       6832\n",
       "407   C0037268      84627\n",
       "408   C0037268       8626\n",
       "409   C0037268      92344\n",
       "\n",
       "[1345 rows x 2 columns]"
      ]
     },
     "execution_count": 209,
     "metadata": {},
     "output_type": "execute_result"
    }
   ],
   "source": [
    "ok_final"
   ]
  },
  {
   "cell_type": "code",
   "execution_count": 210,
   "id": "230c7c77",
   "metadata": {},
   "outputs": [
    {
     "data": {
      "text/html": [
       "<div>\n",
       "<style scoped>\n",
       "    .dataframe tbody tr th:only-of-type {\n",
       "        vertical-align: middle;\n",
       "    }\n",
       "\n",
       "    .dataframe tbody tr th {\n",
       "        vertical-align: top;\n",
       "    }\n",
       "\n",
       "    .dataframe thead th {\n",
       "        text-align: right;\n",
       "    }\n",
       "</style>\n",
       "<table border=\"1\" class=\"dataframe\">\n",
       "  <thead>\n",
       "    <tr style=\"text-align: right;\">\n",
       "      <th></th>\n",
       "      <th>Disease_ID</th>\n",
       "      <th>Gene_ID</th>\n",
       "    </tr>\n",
       "  </thead>\n",
       "  <tbody>\n",
       "    <tr>\n",
       "      <th>0</th>\n",
       "      <td>C0033578</td>\n",
       "      <td>10</td>\n",
       "    </tr>\n",
       "    <tr>\n",
       "      <th>1</th>\n",
       "      <td>C0033578</td>\n",
       "      <td>10013</td>\n",
       "    </tr>\n",
       "    <tr>\n",
       "      <th>2</th>\n",
       "      <td>C0033578</td>\n",
       "      <td>100188789</td>\n",
       "    </tr>\n",
       "    <tr>\n",
       "      <th>3</th>\n",
       "      <td>C0033578</td>\n",
       "      <td>10040</td>\n",
       "    </tr>\n",
       "    <tr>\n",
       "      <th>4</th>\n",
       "      <td>C0033578</td>\n",
       "      <td>1012</td>\n",
       "    </tr>\n",
       "    <tr>\n",
       "      <th>...</th>\n",
       "      <td>...</td>\n",
       "      <td>...</td>\n",
       "    </tr>\n",
       "    <tr>\n",
       "      <th>405</th>\n",
       "      <td>C0037268</td>\n",
       "      <td>6648</td>\n",
       "    </tr>\n",
       "    <tr>\n",
       "      <th>406</th>\n",
       "      <td>C0037268</td>\n",
       "      <td>6832</td>\n",
       "    </tr>\n",
       "    <tr>\n",
       "      <th>407</th>\n",
       "      <td>C0037268</td>\n",
       "      <td>84627</td>\n",
       "    </tr>\n",
       "    <tr>\n",
       "      <th>408</th>\n",
       "      <td>C0037268</td>\n",
       "      <td>8626</td>\n",
       "    </tr>\n",
       "    <tr>\n",
       "      <th>409</th>\n",
       "      <td>C0037268</td>\n",
       "      <td>92344</td>\n",
       "    </tr>\n",
       "  </tbody>\n",
       "</table>\n",
       "<p>1345 rows × 2 columns</p>\n",
       "</div>"
      ],
      "text/plain": [
       "    Disease_ID    Gene_ID\n",
       "0     C0033578         10\n",
       "1     C0033578      10013\n",
       "2     C0033578  100188789\n",
       "3     C0033578      10040\n",
       "4     C0033578       1012\n",
       "..         ...        ...\n",
       "405   C0037268       6648\n",
       "406   C0037268       6832\n",
       "407   C0037268      84627\n",
       "408   C0037268       8626\n",
       "409   C0037268      92344\n",
       "\n",
       "[1345 rows x 2 columns]"
      ]
     },
     "execution_count": 210,
     "metadata": {},
     "output_type": "execute_result"
    }
   ],
   "source": [
    "ok_final"
   ]
  },
  {
   "cell_type": "code",
   "execution_count": 211,
   "id": "f9a81745",
   "metadata": {},
   "outputs": [
    {
     "name": "stdout",
     "output_type": "stream",
     "text": [
      "<class 'pandas.core.frame.DataFrame'>\n",
      "Int64Index: 1345 entries, 0 to 409\n",
      "Data columns (total 2 columns):\n",
      " #   Column      Non-Null Count  Dtype \n",
      "---  ------      --------------  ----- \n",
      " 0   Disease_ID  1345 non-null   object\n",
      " 1   Gene_ID     1345 non-null   int64 \n",
      "dtypes: int64(1), object(1)\n",
      "memory usage: 31.5+ KB\n"
     ]
    }
   ],
   "source": [
    "ok_final.info()"
   ]
  },
  {
   "cell_type": "markdown",
   "id": "8a56fa3c",
   "metadata": {},
   "source": [
    "# Dataset with the 2  most common Genes"
   ]
  },
  {
   "cell_type": "code",
   "execution_count": 212,
   "id": "bf8bf4ee",
   "metadata": {},
   "outputs": [
    {
     "data": {
      "text/plain": [
       "7124    115\n",
       "6648     96\n",
       "5743     83\n",
       "3569     79\n",
       "7157     68\n",
       "3553     61\n",
       "7040     58\n",
       "4524     56\n",
       "7422     50\n",
       "5443     49\n",
       "Name: Gene_ID, dtype: int64"
      ]
     },
     "execution_count": 212,
     "metadata": {},
     "output_type": "execute_result"
    }
   ],
   "source": [
    "df['Gene_ID'].value_counts()[:10]"
   ]
  },
  {
   "cell_type": "code",
   "execution_count": 213,
   "id": "1a296839",
   "metadata": {},
   "outputs": [],
   "source": [
    "top_2_Genes=df[df['Gene_ID'].isin([7124,6648])]"
   ]
  },
  {
   "cell_type": "code",
   "execution_count": 214,
   "id": "a00d4075",
   "metadata": {},
   "outputs": [
    {
     "data": {
      "text/html": [
       "<div>\n",
       "<style scoped>\n",
       "    .dataframe tbody tr th:only-of-type {\n",
       "        vertical-align: middle;\n",
       "    }\n",
       "\n",
       "    .dataframe tbody tr th {\n",
       "        vertical-align: top;\n",
       "    }\n",
       "\n",
       "    .dataframe thead th {\n",
       "        text-align: right;\n",
       "    }\n",
       "</style>\n",
       "<table border=\"1\" class=\"dataframe\">\n",
       "  <thead>\n",
       "    <tr style=\"text-align: right;\">\n",
       "      <th></th>\n",
       "      <th>Disease_ID</th>\n",
       "      <th>Gene_ID</th>\n",
       "    </tr>\n",
       "  </thead>\n",
       "  <tbody>\n",
       "    <tr>\n",
       "      <th>58</th>\n",
       "      <td>C0033941</td>\n",
       "      <td>6648</td>\n",
       "    </tr>\n",
       "    <tr>\n",
       "      <th>132</th>\n",
       "      <td>C0033860</td>\n",
       "      <td>6648</td>\n",
       "    </tr>\n",
       "    <tr>\n",
       "      <th>136</th>\n",
       "      <td>C0033860</td>\n",
       "      <td>7124</td>\n",
       "    </tr>\n",
       "    <tr>\n",
       "      <th>172</th>\n",
       "      <td>C0027726</td>\n",
       "      <td>6648</td>\n",
       "    </tr>\n",
       "    <tr>\n",
       "      <th>520</th>\n",
       "      <td>C0003873</td>\n",
       "      <td>6648</td>\n",
       "    </tr>\n",
       "    <tr>\n",
       "      <th>...</th>\n",
       "      <td>...</td>\n",
       "      <td>...</td>\n",
       "    </tr>\n",
       "    <tr>\n",
       "      <th>21099</th>\n",
       "      <td>C0014859</td>\n",
       "      <td>6648</td>\n",
       "    </tr>\n",
       "    <tr>\n",
       "      <th>21168</th>\n",
       "      <td>C0752347</td>\n",
       "      <td>6648</td>\n",
       "    </tr>\n",
       "    <tr>\n",
       "      <th>21234</th>\n",
       "      <td>C0311375</td>\n",
       "      <td>6648</td>\n",
       "    </tr>\n",
       "    <tr>\n",
       "      <th>21238</th>\n",
       "      <td>C0311375</td>\n",
       "      <td>7124</td>\n",
       "    </tr>\n",
       "    <tr>\n",
       "      <th>21331</th>\n",
       "      <td>C0007621</td>\n",
       "      <td>6648</td>\n",
       "    </tr>\n",
       "  </tbody>\n",
       "</table>\n",
       "<p>211 rows × 2 columns</p>\n",
       "</div>"
      ],
      "text/plain": [
       "      Disease_ID  Gene_ID\n",
       "58      C0033941     6648\n",
       "132     C0033860     6648\n",
       "136     C0033860     7124\n",
       "172     C0027726     6648\n",
       "520     C0003873     6648\n",
       "...          ...      ...\n",
       "21099   C0014859     6648\n",
       "21168   C0752347     6648\n",
       "21234   C0311375     6648\n",
       "21238   C0311375     7124\n",
       "21331   C0007621     6648\n",
       "\n",
       "[211 rows x 2 columns]"
      ]
     },
     "execution_count": 214,
     "metadata": {},
     "output_type": "execute_result"
    }
   ],
   "source": [
    "top_2_Genes"
   ]
  },
  {
   "cell_type": "code",
   "execution_count": 216,
   "id": "1937b60d",
   "metadata": {},
   "outputs": [],
   "source": [
    "top_2_Genes.to_csv(\"top_2_Genes_ID.csv\",index=False)"
   ]
  },
  {
   "cell_type": "code",
   "execution_count": 217,
   "id": "c4222620",
   "metadata": {},
   "outputs": [],
   "source": [
    "ok_genes=pd.read_csv(\"top_2_Genes_ID.csv\")"
   ]
  },
  {
   "cell_type": "code",
   "execution_count": 218,
   "id": "69f31bc5",
   "metadata": {},
   "outputs": [
    {
     "data": {
      "text/html": [
       "<div>\n",
       "<style scoped>\n",
       "    .dataframe tbody tr th:only-of-type {\n",
       "        vertical-align: middle;\n",
       "    }\n",
       "\n",
       "    .dataframe tbody tr th {\n",
       "        vertical-align: top;\n",
       "    }\n",
       "\n",
       "    .dataframe thead th {\n",
       "        text-align: right;\n",
       "    }\n",
       "</style>\n",
       "<table border=\"1\" class=\"dataframe\">\n",
       "  <thead>\n",
       "    <tr style=\"text-align: right;\">\n",
       "      <th></th>\n",
       "      <th>Disease_ID</th>\n",
       "      <th>Gene_ID</th>\n",
       "    </tr>\n",
       "  </thead>\n",
       "  <tbody>\n",
       "    <tr>\n",
       "      <th>0</th>\n",
       "      <td>C0033941</td>\n",
       "      <td>6648</td>\n",
       "    </tr>\n",
       "    <tr>\n",
       "      <th>1</th>\n",
       "      <td>C0033860</td>\n",
       "      <td>6648</td>\n",
       "    </tr>\n",
       "    <tr>\n",
       "      <th>2</th>\n",
       "      <td>C0033860</td>\n",
       "      <td>7124</td>\n",
       "    </tr>\n",
       "    <tr>\n",
       "      <th>3</th>\n",
       "      <td>C0027726</td>\n",
       "      <td>6648</td>\n",
       "    </tr>\n",
       "    <tr>\n",
       "      <th>4</th>\n",
       "      <td>C0003873</td>\n",
       "      <td>6648</td>\n",
       "    </tr>\n",
       "    <tr>\n",
       "      <th>...</th>\n",
       "      <td>...</td>\n",
       "      <td>...</td>\n",
       "    </tr>\n",
       "    <tr>\n",
       "      <th>206</th>\n",
       "      <td>C0014859</td>\n",
       "      <td>6648</td>\n",
       "    </tr>\n",
       "    <tr>\n",
       "      <th>207</th>\n",
       "      <td>C0752347</td>\n",
       "      <td>6648</td>\n",
       "    </tr>\n",
       "    <tr>\n",
       "      <th>208</th>\n",
       "      <td>C0311375</td>\n",
       "      <td>6648</td>\n",
       "    </tr>\n",
       "    <tr>\n",
       "      <th>209</th>\n",
       "      <td>C0311375</td>\n",
       "      <td>7124</td>\n",
       "    </tr>\n",
       "    <tr>\n",
       "      <th>210</th>\n",
       "      <td>C0007621</td>\n",
       "      <td>6648</td>\n",
       "    </tr>\n",
       "  </tbody>\n",
       "</table>\n",
       "<p>211 rows × 2 columns</p>\n",
       "</div>"
      ],
      "text/plain": [
       "    Disease_ID  Gene_ID\n",
       "0     C0033941     6648\n",
       "1     C0033860     6648\n",
       "2     C0033860     7124\n",
       "3     C0027726     6648\n",
       "4     C0003873     6648\n",
       "..         ...      ...\n",
       "206   C0014859     6648\n",
       "207   C0752347     6648\n",
       "208   C0311375     6648\n",
       "209   C0311375     7124\n",
       "210   C0007621     6648\n",
       "\n",
       "[211 rows x 2 columns]"
      ]
     },
     "execution_count": 218,
     "metadata": {},
     "output_type": "execute_result"
    }
   ],
   "source": [
    "ok_genes"
   ]
  },
  {
   "cell_type": "markdown",
   "id": "124dd0df",
   "metadata": {},
   "source": [
    "# All Disease that appear in the top 2 Genes"
   ]
  },
  {
   "cell_type": "code",
   "execution_count": 220,
   "id": "d86c8ddc",
   "metadata": {},
   "outputs": [
    {
     "data": {
      "text/plain": [
       "<AxesSubplot:xlabel='count', ylabel='Disease_ID'>"
      ]
     },
     "execution_count": 220,
     "metadata": {},
     "output_type": "execute_result"
    },
    {
     "data": {
      "image/png": "[encoded data removed]",
      "text/plain": [
       "<Figure size 864x576 with 1 Axes>"
      ]
     },
     "metadata": {},
     "output_type": "display_data"
    }
   ],
   "source": [
    "sns.countplot(y=\"Disease_ID\", data=top_2_Genes, palette=\"coolwarm\",\n",
    "              order=top_2_Genes.Disease_ID.value_counts().iloc[:42].index)"
   ]
  },
  {
   "cell_type": "markdown",
   "id": "6232b99a",
   "metadata": {},
   "source": [
    "# Orginal_Data into csv"
   ]
  },
  {
   "cell_type": "code",
   "execution_count": 222,
   "id": "d21d1bbd",
   "metadata": {},
   "outputs": [
    {
     "name": "stdout",
     "output_type": "stream",
     "text": [
      "<class 'pandas.core.frame.DataFrame'>\n",
      "RangeIndex: 21357 entries, 0 to 21356\n",
      "Data columns (total 2 columns):\n",
      " #   Column      Non-Null Count  Dtype \n",
      "---  ------      --------------  ----- \n",
      " 0   Disease_ID  21357 non-null  object\n",
      " 1   Gene_ID     21357 non-null  int64 \n",
      "dtypes: int64(1), object(1)\n",
      "memory usage: 333.8+ KB\n"
     ]
    }
   ],
   "source": [
    "df.info()"
   ]
  },
  {
   "cell_type": "code",
   "execution_count": 223,
   "id": "04f627f3",
   "metadata": {},
   "outputs": [],
   "source": [
    "df.to_csv(\"Gene_Diseases_ID_Final.csv\",index=False)"
   ]
  },
  {
   "cell_type": "code",
   "execution_count": 224,
   "id": "901f82cd",
   "metadata": {},
   "outputs": [],
   "source": [
    "Gene_Diseases_ID_Final=pd.read_csv(\"Gene_Diseases_ID_Final.csv\")"
   ]
  },
  {
   "cell_type": "code",
   "execution_count": 226,
   "id": "8868bccf",
   "metadata": {},
   "outputs": [
    {
     "name": "stdout",
     "output_type": "stream",
     "text": [
      "<class 'pandas.core.frame.DataFrame'>\n",
      "RangeIndex: 21357 entries, 0 to 21356\n",
      "Data columns (total 2 columns):\n",
      " #   Column      Non-Null Count  Dtype \n",
      "---  ------      --------------  ----- \n",
      " 0   Disease_ID  21357 non-null  object\n",
      " 1   Gene_ID     21357 non-null  int64 \n",
      "dtypes: int64(1), object(1)\n",
      "memory usage: 333.8+ KB\n"
     ]
    }
   ],
   "source": [
    "Gene_Diseases_ID_Final.info()"
   ]
  }
 ],
 "metadata": {
  "kernelspec": {
   "display_name": "Python 3 (ipykernel)",
   "language": "python",
   "name": "python3"
  },
  "language_info": {
   "codemirror_mode": {
    "name": "ipython",
    "version": 3
   },
   "file_extension": ".py",
   "mimetype": "text/x-python",
   "name": "python",
   "nbconvert_exporter": "python",
   "pygments_lexer": "ipython3",
   "version": "3.9.7"
  }
 },
 "nbformat": 4,
 "nbformat_minor": 5
}
