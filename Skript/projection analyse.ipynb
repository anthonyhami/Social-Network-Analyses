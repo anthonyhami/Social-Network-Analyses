{
 "cells": [
  {
   "cell_type": "code",
   "execution_count": 15,
   "id": "79922a74",
   "metadata": {},
   "outputs": [],
   "source": [
    "import pandas as pd\n",
    "import numpy as np\n",
    "import seaborn as sns"
   ]
  },
  {
   "cell_type": "markdown",
   "id": "6e2f2858",
   "metadata": {},
   "source": [
    "# Disease network analyses for 5 Genes"
   ]
  },
  {
   "cell_type": "code",
   "execution_count": 16,
   "id": "36212fc1",
   "metadata": {},
   "outputs": [],
   "source": [
    "df=pd.read_csv(\"df_disease_network_5_heat.csv\")"
   ]
  },
  {
   "cell_type": "code",
   "execution_count": 19,
   "id": "7522341e",
   "metadata": {},
   "outputs": [
    {
     "data": {
      "text/plain": [
       "Source_Disease    33\n",
       "Target_Disease    33\n",
       "dtype: int64"
      ]
     },
     "execution_count": 19,
     "metadata": {},
     "output_type": "execute_result"
    }
   ],
   "source": [
    "df.nunique()"
   ]
  },
  {
   "cell_type": "code",
   "execution_count": 18,
   "id": "5b61ff7b",
   "metadata": {},
   "outputs": [],
   "source": [
    "df_test=pd.read_csv(\"df_disease_network_5_cyto.csv\")"
   ]
  },
  {
   "cell_type": "code",
   "execution_count": 21,
   "id": "edb5198a",
   "metadata": {},
   "outputs": [
    {
     "data": {
      "text/plain": [
       "C1458155    17\n",
       "C0033578    17\n",
       "C0024668    13\n",
       "C0003873    12\n",
       "C0038356    12\n",
       "C0014175    11\n",
       "C0024667    10\n",
       "C0031117     8\n",
       "C0024121     8\n",
       "C0027627     8\n",
       "C0001418     8\n",
       "C0017661     8\n",
       "C0000786     8\n",
       "C0004352     8\n",
       "C0009375     8\n",
       "C0025202     4\n",
       "C0151744     4\n",
       "C0028754     4\n",
       "C0242656     4\n",
       "C0376634     4\n",
       "C0919267     4\n",
       "C0023467     4\n",
       "C0023893     4\n",
       "C0021390     4\n",
       "C0011860     4\n",
       "C0011853     4\n",
       "C0007621     4\n",
       "C0007134     4\n",
       "C0007131     4\n",
       "C0005695     4\n",
       "C0004096     4\n",
       "C0002395     4\n",
       "C2239176     4\n",
       "Name: Source_Disease, dtype: int64"
      ]
     },
     "execution_count": 21,
     "metadata": {},
     "output_type": "execute_result"
    }
   ],
   "source": [
    "df[\"Source_Disease\"].value_counts()"
   ]
  },
  {
   "cell_type": "code",
   "execution_count": 23,
   "id": "5d610e8d",
   "metadata": {},
   "outputs": [
    {
     "data": {
      "text/plain": [
       "C0003873    10\n",
       "C0000786     8\n",
       "C0001418     8\n",
       "C0004352     7\n",
       "C0014175     7\n",
       "C0024668     5\n",
       "C0009375     4\n",
       "C0033578     4\n",
       "C0024121     4\n",
       "C0011853     4\n",
       "C0021390     4\n",
       "C0007131     4\n",
       "C0005695     4\n",
       "C0007621     3\n",
       "C0024667     3\n",
       "C0242656     3\n",
       "C0002395     3\n",
       "C0027627     3\n",
       "C0011860     3\n",
       "C0004096     3\n",
       "C0023893     3\n",
       "C0017661     3\n",
       "C0007134     3\n",
       "C0025202     2\n",
       "C0031117     2\n",
       "C0038356     2\n",
       "C0919267     2\n",
       "C0023467     1\n",
       "C0376634     1\n",
       "C1458155     1\n",
       "Name: Source_Disease, dtype: int64"
      ]
     },
     "execution_count": 23,
     "metadata": {},
     "output_type": "execute_result"
    }
   ],
   "source": [
    "df_test[\"Source_Disease\"].value_counts()"
   ]
  },
  {
   "cell_type": "code",
   "execution_count": 24,
   "id": "519d02a1",
   "metadata": {},
   "outputs": [
    {
     "data": {
      "text/plain": [
       "C1458155    16\n",
       "C0033578    13\n",
       "C0038356    10\n",
       "C0024668     8\n",
       "C0024667     7\n",
       "C0031117     6\n",
       "C0027627     5\n",
       "C0017661     5\n",
       "C0028754     4\n",
       "C2239176     4\n",
       "C0014175     4\n",
       "C0024121     4\n",
       "C0151744     4\n",
       "C0009375     4\n",
       "C0376634     3\n",
       "C0023467     3\n",
       "C0919267     2\n",
       "C0025202     2\n",
       "C0003873     2\n",
       "C0011860     1\n",
       "C0004096     1\n",
       "C0023893     1\n",
       "C0007134     1\n",
       "C0004352     1\n",
       "C0242656     1\n",
       "C0007621     1\n",
       "C0002395     1\n",
       "Name: Target_Disease, dtype: int64"
      ]
     },
     "execution_count": 24,
     "metadata": {},
     "output_type": "execute_result"
    }
   ],
   "source": [
    "df_test[\"Target_Disease\"].value_counts()"
   ]
  }
 ],
 "metadata": {
  "kernelspec": {
   "display_name": "Python 3 (ipykernel)",
   "language": "python",
   "name": "python3"
  },
  "language_info": {
   "codemirror_mode": {
    "name": "ipython",
    "version": 3
   },
   "file_extension": ".py",
   "mimetype": "text/x-python",
   "name": "python",
   "nbconvert_exporter": "python",
   "pygments_lexer": "ipython3",
   "version": "3.9.7"
  }
 },
 "nbformat": 4,
 "nbformat_minor": 5
}
